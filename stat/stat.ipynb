{
 "cells": [
  {
   "cell_type": "code",
   "execution_count": 13,
   "metadata": {},
   "outputs": [
    {
     "name": "stdout",
     "output_type": "stream",
     "text": [
      "x: [1, 2, 5, 76] sigma_x: 84\n",
      "y: [3, 2, 89, 8] sigma_y: 102\n",
      "xy: [3, 4, 445, 608] sigma_xy: 1060\n",
      "x_square: [1, 4, 25, 5776] sigma_x_square: 5806\n",
      "y_square: [9, 4, 7921, 64] sigma_y_square: 7998\n",
      "alternativ Syx 5107.360217714003\n",
      "Syx 5107.360217714002\n",
      "31.121474517565563 + -0.26768926274121724x\n",
      "71.46579753780127\n"
     ]
    }
   ],
   "source": [
    "# linear regression\n",
    "x = list(map(int, input().split()))\n",
    "y = list(map(int, input().split()))\n",
    "xy = [x[i]*y[i] for i in range(len(x))]\n",
    "x_square = [i**2 for i in x]\n",
    "y_square = [i**2 for i in y]\n",
    "\n",
    "print(f\"x: {x}\", f\"sigma_x: {sum(x)}\")\n",
    "print(f\"y: {y}\", f\"sigma_y: {sum(y)}\")\n",
    "print(f\"xy: {xy}\", f\"sigma_xy: {sum(xy)}\")\n",
    "print(f\"x_square: {x_square}\", f\"sigma_x_square: {sum(x_square)}\")\n",
    "print(f\"y_square: {y_square}\", f\"sigma_y_square: {sum(y_square)}\")\n",
    "\n",
    "n = len(x)\n",
    "mean_x = sum(x)/n\n",
    "mean_y = sum(y)/n\n",
    "sigma_x = sum(x)\n",
    "sigma_y = sum(y)\n",
    "sigma_xy = sum(xy)\n",
    "sigma_x_square = sum(x_square)\n",
    "sigma_y_square = sum(y_square)\n",
    "\n",
    "b = (n*sigma_xy - sigma_x*sigma_y)/(n*sigma_x_square - sigma_x**2)\n",
    "a = mean_y - b*mean_x\n",
    "Syx = (sigma_y_square - a*sigma_y - b*sigma_xy)\n",
    "alternative_Syx = sum([(y[i] - a - b*x[i])**2 for i in range(n)])\n",
    "print(\"alternativ Syx\", alternative_Syx)\n",
    "print(\"Syx\", Syx)\n",
    "print(f\"{a} + {b}x\")\n",
    "print(Syx**0.5)\n"
   ]
  }
 ],
 "metadata": {
  "kernelspec": {
   "display_name": "Python 3",
   "language": "python",
   "name": "python3"
  },
  "language_info": {
   "codemirror_mode": {
    "name": "ipython",
    "version": 3
   },
   "file_extension": ".py",
   "mimetype": "text/x-python",
   "name": "python",
   "nbconvert_exporter": "python",
   "pygments_lexer": "ipython3",
   "version": "3.11.6"
  }
 },
 "nbformat": 4,
 "nbformat_minor": 2
}
