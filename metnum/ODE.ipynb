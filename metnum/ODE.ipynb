{
 "cells": [
  {
   "cell_type": "code",
   "execution_count": 2,
   "metadata": {
    "vscode": {
     "languageId": "python"
    }
   },
   "outputs": [],
   "source": [
    "from sage.all import *\n",
    "import numpy as np"
   ]
  },
  {
   "cell_type": "code",
   "execution_count": 114,
   "metadata": {
    "vscode": {
     "languageId": "python"
    }
   },
   "outputs": [],
   "source": [
    "x0 = 0 # initial condition\n",
    "y0 = 1200 # initial condition\n",
    "\n",
    "last_x = 480 # last x value or x value at which we need approximation\n",
    "\n",
    "x = var('x')\n",
    "y = function('y')(x)\n",
    "de = diff(y, x, 1) == -2.2067 * 1e-12 * (y ** 4 - 81 * 10 ** 8)\n",
    "f = desolve(de, y, [x0, y0])\n",
    "\n",
    "x, y = var('x, y')\n",
    "dydx = -2.2067 * 1e-12 * (y ** 4 - 81 * 10 ** 8)\n",
    "firstOrderDiffOf_dydx = dydx.diff(x) + dydx.diff(y)*dydx\n",
    "secondOrderDiffOf_dydx = (dydx.diff(x) + dydx.diff(y)*dydx).diff(x) + (dydx.diff(x) + dydx.diff(y)*dydx).diff(y)*dydx\n",
    "\n",
    "def DyDx(x0, y0):\n",
    "    return RR(dydx.subs({x: x0, y: y0}))\n",
    "\n",
    "# print(\"Real value at x = {} is {}\".format(last_x, real_value))\n",
    "\n",
    "def printTable(listxy):\n",
    "    print(\"x\\t\\ty\")\n",
    "    for i in listxy:\n",
    "        print(\"{}\\t\\t{}\".format(i[0], i[1]))\n",
    "\n",
    "def Output(approximateValue, absoluteError, approximateError=\"\"):\n",
    "    print(\"Real value = {}\".format(real_value))\n",
    "    print(\"Approximate value = {}\".format(approximateValue))\n",
    "    print(\"Absolute error = {}\".format(absoluteError))\n",
    "    if approximateError != \"\":\n",
    "        print(\"Approximate error = {}\".format(approximateError))\n"
   ]
  },
  {
   "cell_type": "code",
   "execution_count": 115,
   "metadata": {
    "vscode": {
     "languageId": "python"
    }
   },
   "outputs": [
    {
     "name": "stdout",
     "output_type": "stream",
     "text": [
      "647.340376070441\n"
     ]
    }
   ],
   "source": [
    "# euler method\n",
    "h = 0.5 # step size\n",
    "\n",
    "def euler(x0, y0, h, last_x):\n",
    "    listxy = []\n",
    "    xi = x0\n",
    "    yi = y0\n",
    "    listxy.append((xi, yi))\n",
    "    while xi < last_x:\n",
    "        yi = yi + h * DyDx(xi, yi)\n",
    "        xi = xi + h\n",
    "        listxy.append((xi, yi))\n",
    "    return listxy\n",
    "\n",
    "def approximate_error_euler_method(last_x, approximate_y, h):\n",
    "    return RR(firstOrderDiffOf_dydx.subs({ x: last_x, y: approximate_y })) * h ** 3 / 6 + RR(secondOrderDiffOf_dydx.subs({ x: last_x, y: approximate_y })) * h ** 4 / 24\n",
    "\n",
    "listxy = euler(x0, y0, h, last_x)\n",
    "approximate_value = listxy[-1][1]\n",
    "print(approximate_value)\n",
    "# absolute_error = abs(real_value - approximate_value)\n",
    "# approximateError = approximate_error_euler_method(last_x, approximate_value, h)\n",
    "# Output(approximate_value, absolute_error, approximateError)\n"
   ]
  },
  {
   "cell_type": "code",
   "execution_count": 125,
   "metadata": {
    "vscode": {
     "languageId": "python"
    }
   },
   "outputs": [
    {
     "name": "stdout",
     "output_type": "stream",
     "text": [
      "647.572053691959\n",
      "x\t\ty\n",
      "0\t\t1200\n",
      "30\t\t1088.04242484851\n",
      "60\t\t1008.95226927830\n",
      "90\t\t948.888384368908\n",
      "120\t\t901.072966031023\n",
      "150\t\t861.723562404048\n",
      "180\t\t828.532458631230\n",
      "210\t\t799.997060910085\n",
      "240\t\t775.089168847912\n",
      "270\t\t753.077041396428\n",
      "300\t\t733.423086347404\n",
      "330\t\t715.721812626502\n",
      "360\t\t699.660518022618\n",
      "390\t\t684.993453511100\n",
      "420\t\t671.524308336466\n",
      "450\t\t659.094014251559\n",
      "480\t\t647.572053691959\n"
     ]
    }
   ],
   "source": [
    "# runge kuta 2nd method\n",
    "\n",
    "# heun method a2 = 1/2\n",
    "def heun(x0, y0, h, last_x):\n",
    "    listxy = []\n",
    "    xi = x0\n",
    "    yi = y0\n",
    "    listxy.append((xi, yi))\n",
    "    while xi < last_x:\n",
    "        k1 = DyDx(xi, yi)\n",
    "        k2 = DyDx(xi + h, yi + h * k1)\n",
    "        yi = yi + h * (0.5 * k1 + 0.5 * k2)\n",
    "        xi = xi + h\n",
    "        listxy.append((xi, yi))\n",
    "    return listxy\n",
    "\n",
    "# midpoint method a2 = 1\n",
    "def midpoint(x0, y0, h, last_x):\n",
    "    listxy = []\n",
    "    xi = x0\n",
    "    yi = y0\n",
    "    listxy.append((xi, yi))\n",
    "    while xi < last_x:\n",
    "        k1 = DyDx(xi, yi)\n",
    "        k2 = DyDx(xi + 0.5 * h, yi + h * k1 * 0.5)\n",
    "        yi = yi + h * k2\n",
    "        xi = xi + h\n",
    "        listxy.append((xi, yi))\n",
    "    return listxy\n",
    "\n",
    "# ralston method a2 = 3/4\n",
    "def ralston(x0, y0, h, last_x):\n",
    "    listxy = []\n",
    "    xi = x0\n",
    "    yi = y0\n",
    "    listxy.append((xi, yi))\n",
    "    while xi < last_x:\n",
    "        k1 = DyDx(xi, yi)\n",
    "        k2 = DyDx(xi + 0.75 * h, yi + h * k1 * 0.75)\n",
    "        yi = yi + h * (2 * k2 + k1) / 3\n",
    "        xi = xi + h\n",
    "        listxy.append((xi, yi))\n",
    "    return listxy\n",
    "\n",
    "def popular_runge_kuta_4th_method(x0, y0, h, last_x):\n",
    "    listxy = []\n",
    "    xi = x0\n",
    "    yi = y0\n",
    "    listxy.append((xi, yi))\n",
    "    while xi < last_x:\n",
    "        k1 = DyDx(xi, yi)\n",
    "        k2 = DyDx(xi + 0.5 * h, yi + h * k1 * 0.5)\n",
    "        k3 = DyDx(xi + 0.5 * h, yi + h * k2 * 0.5)\n",
    "        k4 = DyDx(xi + h, yi + h * k3)\n",
    "        yi = yi + h * (k1 + 2 * k2 + 2 * k3 + k4) / 6\n",
    "        xi = xi + h\n",
    "        listxy.append((xi, yi))\n",
    "    return listxy\n",
    "\n",
    "h = 30 # step size\n",
    "\n",
    "listxy = popular_runge_kuta_4th_method(x0, y0, h, last_x)\n",
    "approximate_value = listxy[-1][1]\n",
    "print(approximate_value)\n",
    "# absolute_error = abs(real_value - approximate_value)\n",
    "# Output(approximate_value, absolute_error)\n",
    "printTable(listxy)"
   ]
  },
  {
   "cell_type": "code",
   "execution_count": 178,
   "metadata": {
    "vscode": {
     "languageId": "python"
    }
   },
   "outputs": [
    {
     "name": "stdout",
     "output_type": "stream",
     "text": [
      "x\t\ty\t\tz\n",
      "5\t\t0.00387310000000000\t\t-0.000265366666666667\n",
      "5.75000000000000\t\t0.00367407500000000\t\t-0.000109368666666667\n",
      "6.50000000000000\t\t0.00359204850000000\t\t-0.0000117593320730939\n",
      "7.25000000000000\t\t0.00358322900094518\t\t0.0000533616884915530\n",
      "8.00000000000000\t\t0.00362325026731384\t\t0.0000989696327395638\n",
      "x\t\ty\t\tz\n",
      "5\t\t0.00387310000000000\t\t-0.000530733333333333\n",
      "5.75000000000000\t\t0.00347505000000000\t\t-0.000334930333333333\n",
      "6.50000000000000\t\t0.00322385225000000\t\t-0.000212414656584751\n",
      "7.25000000000000\t\t0.00306454125756144\t\t-0.000130677126682960\n",
      "8.00000000000000\t\t0.00296653341254922\t\t-0.0000734316984877704\n",
      "-0.000486095907207941\n",
      "x\t\ty\t\tz\n",
      "5\t\t0.00387310000000000\t\t-0.000486095907207941\n",
      "5.75000000000000\t\t0.00350852806959404\t\t-0.000296988521126750\n",
      "6.50000000000000\t\t0.00328578667874898\t\t-0.000178662349495607\n",
      "7.25000000000000\t\t0.00315178991662728\t\t-0.0000997198888363691\n",
      "8.00000000000000\t\t0.00307700000000000\t\t-0.0000444320061630142\n"
     ]
    }
   ],
   "source": [
    "# shooting method\n",
    "x, y, z = var('x, y, z')\n",
    "\n",
    "dydx = z\n",
    "dzdx = (- z * x + y) / (x ** 2)\n",
    "\n",
    "def DYDX(x0, y0, z0):\n",
    "    return RR(dydx.subs({x: x0, y: y0, z: z0}))\n",
    "\n",
    "def DZDX(x0, y0, z0):\n",
    "    return RR(dzdx.subs({x: x0, y: y0, z: z0}))\n",
    "\n",
    "def shooting_method_euler(x0, y0, z0, h, x1):\n",
    "    listxyz = []\n",
    "    listxyz.append((x0, y0, z0))\n",
    "    xi = x0\n",
    "    yi = y0\n",
    "    zi = z0\n",
    "    while xi < x1:\n",
    "        temp_yi = yi + h * DYDX(xi, yi, zi)\n",
    "        temp_zi = zi + h * DZDX(xi, yi, zi)\n",
    "        temp_xi = xi + h\n",
    "        \n",
    "        yi = temp_yi\n",
    "        zi = temp_zi\n",
    "        xi = temp_xi\n",
    "        listxyz.append((xi, yi, zi))\n",
    "    return listxyz\n",
    "\n",
    "def printListXYZ(listxyz):\n",
    "    print(\"x\\t\\ty\\t\\tz\")\n",
    "    for i in listxyz:\n",
    "        print(\"{}\\t\\t{}\\t\\t{}\".format(i[0], i[1], i[2]))\n",
    "        \n",
    "h = 0.75\n",
    "\n",
    "x0 = 5\n",
    "y0 = 0.0038731\n",
    "\n",
    "x1 = 8\n",
    "y1 = 0.0030770\n",
    "\n",
    "# assume z0\n",
    "z01 = (y1 - y0) / (x1 - x0)\n",
    "\n",
    "hasil1 = shooting_method_euler(x0, y0, z01, h, x1)\n",
    "\n",
    "z02 = 2 * z01\n",
    "\n",
    "hasil2 = shooting_method_euler(x0, y0, z02, h, x1)\n",
    "\n",
    "printListXYZ(hasil1)\n",
    "printListXYZ(hasil2)\n",
    "\n",
    "approximate1 = hasil1[-1][1]\n",
    "approximate2 = hasil2[-1][1]\n",
    "\n",
    "z03 = z01 + (z02 - z01) * (y1 - approximate1) / (approximate2 - approximate1)\n",
    "print(z03)\n",
    "\n",
    "printListXYZ(shooting_method_euler(x0, y0, z03, h, x1))"
   ]
  },
  {
   "cell_type": "code",
   "execution_count": 192,
   "metadata": {
    "vscode": {
     "languageId": "python"
    }
   },
   "outputs": [
    {
     "name": "stdout",
     "output_type": "stream",
     "text": [
      "[ 1.00000000000000 0.000000000000000 0.000000000000000 0.000000000000000 0.000000000000000 0.000000000000000]\n",
      "[ 2.77777777777778 -5.88506235827664  3.07539682539683 0.000000000000000 0.000000000000000 0.000000000000000]\n",
      "[0.000000000000000  2.77777777777778 -5.85038732801480  3.04659498207885 0.000000000000000 0.000000000000000]\n",
      "[0.000000000000000 0.000000000000000  2.77777777777778 -5.82227989234910  3.02287581699346 0.000000000000000]\n",
      "[0.000000000000000 0.000000000000000 0.000000000000000  2.77777777777778 -5.79904228552877  3.00300300300300]\n",
      "[0.000000000000000 0.000000000000000 0.000000000000000 0.000000000000000 0.000000000000000  1.00000000000000]\n",
      "(0.00387310000000000, 0.000000000000000, 0.000000000000000, 0.000000000000000, 0.000000000000000, 0.00307700000000000)\n"
     ]
    },
    {
     "data": {
      "text/plain": [
       "(0.00387310000000000, 0.00361649726466179, 0.00342222529562585, 0.00327431700854530, 0.00316182644671047, 0.00307700000000000)"
      ]
     },
     "execution_count": 192,
     "metadata": {},
     "output_type": "execute_result"
    }
   ],
   "source": [
    "# finite difference method\n",
    "h = 0.6\n",
    "\n",
    "x0 = 5\n",
    "y0 = 0.0038731\n",
    "\n",
    "x1 = 8\n",
    "y1 = 0.0030770\n",
    "\n",
    "x = var('x')\n",
    "right_side = 0\n",
    "\n",
    "def finiteDifferenceMethod(x0, y0, x1, y1, h):\n",
    "    n = int((x1 - x0) / h + 1)\n",
    "    mat = matrix(RR, n, n, 0)\n",
    "    xi_min1_function = 1 / (h)**2\n",
    "    xi_function1 = - 2 / h**2 - 1 / (x * h) - 1 / (x ** 2)\n",
    "    xi_plus1_function = 1 / h**2 + 1 / (x * h)\n",
    "    mat[0, 0] = 1\n",
    "    xi = x0\n",
    "    for i in range(1, n - 1):\n",
    "        xi = xi + h\n",
    "        mat[i, i - 1] = xi_min1_function.subs({x: xi})\n",
    "        mat[i, i] = xi_function1.subs({x: xi})\n",
    "        mat[i, i + 1] = xi_plus1_function.subs({x: xi})\n",
    "    mat[n - 1, n - 1] = 1\n",
    "    \n",
    "    vektor = vector(RR, n)\n",
    "    vektor[0] = y0\n",
    "    vektor[n - 1] = y1\n",
    "    for i in range(1, n - 1):\n",
    "        vektor[i] = right_side.subs({x: x0 + i * h})\n",
    "    print(mat)\n",
    "    print(vektor)\n",
    "    return mat.solve_right(vektor)\n",
    "\n",
    "finiteDifferenceMethod(x0, y0, x1, y1, h)"
   ]
  }
 ],
 "metadata": {
  "kernelspec": {
   "display_name": "SageMath 10.1",
   "language": "sage",
   "name": "sagemath"
  },
  "language_info": {
   "codemirror_mode": {
    "name": "ipython",
    "version": 3
   },
   "file_extension": ".py",
   "mimetype": "text/x-python",
   "name": "sage",
   "nbconvert_exporter": "python",
   "pygments_lexer": "ipython3",
   "version": "3.11.6"
  }
 },
 "nbformat": 4,
 "nbformat_minor": 2
}
