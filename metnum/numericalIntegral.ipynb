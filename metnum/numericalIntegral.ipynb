{
 "cells": [
  {
   "cell_type": "code",
   "execution_count": 2,
   "metadata": {},
   "outputs": [],
   "source": [
    "from sage.all import * \n",
    "import numpy as np"
   ]
  },
  {
   "cell_type": "code",
   "execution_count": 4,
   "metadata": {},
   "outputs": [
    {
     "name": "stdout",
     "output_type": "stream",
     "text": [
      "Real Integral :  0.0770410156239667\n"
     ]
    }
   ],
   "source": [
    "x = var('x')\n",
    "y = e ** (-x ** 2)\n",
    "\n",
    "def f(x0):\n",
    "    return RR(y.subs({ x: x0 }))\n",
    "\n",
    "secondDerivative = y.derivative(x, 2)\n",
    "forthDerivative = y.derivative(x, 4)\n",
    "\n",
    "def meanValueOfAFunction(function, lowerNode, upperNode):\n",
    "    return RR(numerical_integral(function, lowerNode, upperNode)[0]) / (upperNode - lowerNode)\n",
    "\n",
    "# nodes count from 0\n",
    "a = 1.21 # lower bound\n",
    "b = 2.73 # upper bound \n",
    "# n is last index of node\n",
    "# h is distance between nodes\n",
    "\n",
    "realIntegral = RR(integral(y, x, a, b))\n",
    "print(\"Real Integral : \", realIntegral)\n",
    "\n",
    "def Output(approximateIntegral, absoluteError, approximateError=\"\"):\n",
    "    print(\"Real Integral : \", realIntegral)\n",
    "    print(\"Approximate integral : \", approximateIntegral)\n",
    "    print(\"Absolute Error : \", absoluteError)\n",
    "    if approximateError != \"\":\n",
    "        print(\"Approximate Error : \", approximateError)"
   ]
  },
  {
   "cell_type": "code",
   "execution_count": 63,
   "metadata": {},
   "outputs": [
    {
     "name": "stdout",
     "output_type": "stream",
     "text": [
      "Real Integral :  0.0770410156239667\n",
      "Approximate integral :  0.176218018000420\n",
      "Absolute Error :  0.0991770023764533\n",
      "Approximate Error :  0.107153805899805\n"
     ]
    }
   ],
   "source": [
    "# single TRAPAZOID rule\n",
    "n = 1\n",
    "h = (b - a) / n\n",
    "\n",
    "def trapezoidal_formula(lowerNode, upperNode):\n",
    "    return (f(lowerNode) + f(upperNode)) * 0.5 * h\n",
    "\n",
    "def approximate_error_one_trapezoid(lowerNode, upperNode):\n",
    "    meanValueOfSecondDerivative = meanValueOfAFunction(secondDerivative, lowerNode, upperNode)\n",
    "    return abs(meanValueOfSecondDerivative * ((upperNode - lowerNode) ** 3) / 12)\n",
    "\n",
    "approximateIntegral = trapezoidal_formula(a, b)\n",
    "absoluteError = abs(approximateIntegral - realIntegral)\n",
    "approximateError = approximate_error_one_trapezoid(a, b)\n",
    "\n",
    "Output(approximateIntegral, absoluteError, approximateError)"
   ]
  },
  {
   "cell_type": "code",
   "execution_count": 132,
   "metadata": {},
   "outputs": [
    {
     "name": "stdout",
     "output_type": "stream",
     "text": [
      "Real Integral :  0.0770410156239667\n",
      "Approximate integral :  0.0773089072668597\n",
      "Absolute Error :  0.000267891642892995\n",
      "Approximate Error :  0.000267884514749513\n"
     ]
    }
   ],
   "source": [
    "# multiple TRAPEZOIDAL\n",
    "n = 20\n",
    "h = (b - a) / n\n",
    "\n",
    "# Trapezoidal rule\n",
    "def multiple_trapezoidal_formula(a, b, n, h):\n",
    "    sum = 0\n",
    "    for i in range(n):\n",
    "        sum += trapezoidal_formula(a + i * h, a + (i + 1) * h)\n",
    "    return sum\n",
    "\n",
    "def multiple_trapezoidal_by_formula(a, b, n, h):\n",
    "    width = (b - a)\n",
    "    average_height = (f(a) + 2 * sum([f(a + i * h) for i in range(1, n)]) + f(b)) / (2 * n)\n",
    "    return width * average_height\n",
    "\n",
    "def approximate_error_multiple_trapezoid(a, b, n, h):\n",
    "    sumOfMeanValueOfSecondDerivative = 0\n",
    "    for i in range(n):\n",
    "        meanValueOfSecondDerivative = meanValueOfAFunction(secondDerivative, a + i * h, a + (i + 1) * h)\n",
    "        sumOfMeanValueOfSecondDerivative += meanValueOfSecondDerivative\n",
    "    averageOfMeanValueOfSecondDerivative = sumOfMeanValueOfSecondDerivative / n\n",
    "    return abs(averageOfMeanValueOfSecondDerivative * ((b - a) ** 3) / (12 * n ** 2))\n",
    "\n",
    "approximateIntegral = multiple_trapezoidal_by_formula(a, b, n, h)\n",
    "absoluteError = abs(approximateIntegral - realIntegral)\n",
    "approximateError = approximate_error_multiple_trapezoid(a, b, n, h)\n",
    "\n",
    "Output(approximateIntegral, absoluteError, approximateError)\n",
    "\n"
   ]
  },
  {
   "cell_type": "code",
   "execution_count": 116,
   "metadata": {},
   "outputs": [
    {
     "name": "stdout",
     "output_type": "stream",
     "text": [
      "Real Integral :  0.0770410156239667\n",
      "Approximate integral :  0.0796466837709330\n",
      "Absolute Error :  0.00260566814696633\n",
      "Approximate Error :  0.000288675078852445\n"
     ]
    }
   ],
   "source": [
    "# single simpson 1/3 rule\n",
    "n = 2\n",
    "h = (b - a) / n\n",
    "\n",
    "def simpson13_formula(lowerNode, upperNode):\n",
    "    return (f(lowerNode) + 4 * f(lowerNode + h) + f(upperNode)) * (upperNode - lowerNode) / 6\n",
    "\n",
    "def approximate_error_one_simpson13(lowerNode, upperNode):\n",
    "    meanValueOfForthDerivative = meanValueOfAFunction(forthDerivative, lowerNode, upperNode)\n",
    "    return abs(meanValueOfForthDerivative * ((upperNode - lowerNode) ** 5) / 2880)\n",
    "\n",
    "approximateIntegral = simpson13_formula(a, b)\n",
    "absoluteError = abs(approximateIntegral - realIntegral)\n",
    "approximateError = approximate_error_one_simpson13(a, b)\n",
    "\n",
    "Output(approximateIntegral, absoluteError, approximateError)"
   ]
  },
  {
   "cell_type": "code",
   "execution_count": 134,
   "metadata": {},
   "outputs": [
    {
     "name": "stdout",
     "output_type": "stream",
     "text": [
      "Real Integral :  0.0770410156239667\n",
      "Approximate integral :  0.0770410155778921\n",
      "Absolute Error :  4.60745608332758e-11\n",
      "Approximate Error :  4.61880126163913e-11\n"
     ]
    }
   ],
   "source": [
    "# multiple simpson 1/3 rule\n",
    "n = 100 # harus genap\n",
    "h = (b - a) / n\n",
    "\n",
    "def multiple_simpson13_formula(a, b, n, h):\n",
    "    sum = 0\n",
    "    for i in range(0, n, 2):\n",
    "        sum += simpson13_formula(a + i * h, a + (i + 2) * h)\n",
    "    return sum\n",
    "\n",
    "def approximate_error_multiple_simpson13(a, b, n, h):\n",
    "    sumOfMeanValueOfForthDerivative = 0\n",
    "    for i in range(0, n, 2):\n",
    "        meanValueOfForthDerivative = meanValueOfAFunction(forthDerivative, a + i * h, a + (i + 2) * h)\n",
    "        sumOfMeanValueOfForthDerivative += meanValueOfForthDerivative\n",
    "    averageOfMeanValueOfForthDerivative = sumOfMeanValueOfForthDerivative / (n / 2)\n",
    "    return abs(averageOfMeanValueOfForthDerivative * ((b - a) ** 5) / (180 * n ** 4))\n",
    "\n",
    "def multiple_simpson13_by_formula(a, b, n, h):\n",
    "    width = (b - a)\n",
    "    average_height = (f(a) + 4 * sum([f(a + i * h) for i in range(1, n, 2)]) + 2 * sum([f(a + i * h) for i in range(2, n, 2)]) + f(b)) / (3 * n)\n",
    "    return width * average_height\n",
    "\n",
    "approximateIntegral = multiple_simpson13_by_formula(a, b, n, h)\n",
    "absoluteError = abs(approximateIntegral - realIntegral)\n",
    "approximateError = approximate_error_multiple_simpson13(a, b, n, h)\n",
    "\n",
    "Output(approximateIntegral, absoluteError, approximateError)\n"
   ]
  },
  {
   "cell_type": "code",
   "execution_count": 127,
   "metadata": {},
   "outputs": [
    {
     "name": "stdout",
     "output_type": "stream",
     "text": [
      "Real Integral :  0.0770410156239667\n",
      "Approximate integral :  0.0780444813985961\n",
      "Absolute Error :  0.00100346577462940\n",
      "Approximate Error :  0.000128300035045531\n"
     ]
    }
   ],
   "source": [
    "# simpson 3/8 rule\n",
    "n = 3\n",
    "h = (b - a) / n\n",
    "\n",
    "def simpson38_formula(lowerNode, upperNode):\n",
    "    return (f(lowerNode) + 3 * f(lowerNode + h) + 3 * f(lowerNode + 2 * h) + f(upperNode)) * (upperNode - lowerNode) / 8\n",
    "\n",
    "def approximate_error_one_simpson38(lowerNode, upperNode):\n",
    "    meanValueOfForthDerivative = meanValueOfAFunction(forthDerivative, lowerNode, upperNode)\n",
    "    return abs(meanValueOfForthDerivative * ((upperNode - lowerNode) ** 5) / 6480)\n",
    "\n",
    "approximateIntegral = simpson38_formula(a, b)\n",
    "absoluteError = abs(approximateIntegral - realIntegral)\n",
    "approximateError = approximate_error_one_simpson38(a, b)\n",
    "\n",
    "Output(approximateIntegral, absoluteError, approximateError)"
   ]
  },
  {
   "cell_type": "code",
   "execution_count": 139,
   "metadata": {},
   "outputs": [
    {
     "name": "stdout",
     "output_type": "stream",
     "text": [
      "Real Integral :  0.0770410156239667\n",
      "Approximate integral :  0.0770410034997624\n",
      "Absolute Error :  1.21242043071845e-8\n",
      "Approximate Error :  1.28300035045531e-8\n"
     ]
    }
   ],
   "source": [
    "# multiple simpson 3/8 rule\n",
    "n = 30 # harus kelipatan 3\n",
    "h = (b - a) / n\n",
    "\n",
    "def multiple_simpson38_formula(a, b, n, h):\n",
    "    sum = 0\n",
    "    for i in range(0, n, 3):\n",
    "        sum += simpson38_formula(a + i * h, a + (i + 3) * h)\n",
    "    return sum\n",
    "\n",
    "def approximate_error_multiple_simpson38(a, b, n, h):\n",
    "    sumOfMeanValueOfForthDerivative = 0\n",
    "    for i in range(0, n, 3):\n",
    "        meanValueOfForthDerivative = meanValueOfAFunction(forthDerivative, a + i * h, a + (i + 3) * h)\n",
    "        sumOfMeanValueOfForthDerivative += meanValueOfForthDerivative\n",
    "    averageOfMeanValueOfForthDerivative = sumOfMeanValueOfForthDerivative / (n / 3)\n",
    "    return abs(3 * averageOfMeanValueOfForthDerivative * ((b - a) ** 5) / (240 * n ** 4))\n",
    "\n",
    "approximateIntegral = multiple_simpson38_formula(a, b, n, h)\n",
    "absoluteError = abs(approximateIntegral - realIntegral)\n",
    "approximateError = approximate_error_multiple_simpson38(a, b, n, h)\n",
    "\n",
    "Output(approximateIntegral, absoluteError, approximateError)"
   ]
  },
  {
   "cell_type": "code",
   "execution_count": 168,
   "metadata": {},
   "outputs": [
    {
     "name": "stdout",
     "output_type": "stream",
     "text": [
      "Real Integral :  0.0770410156239667\n",
      "Approximate integral :  0.0770410156239666\n",
      "Absolute Error :  5.55111512312578e-17\n"
     ]
    }
   ],
   "source": [
    "# Romberg Integration\n",
    "ukuranMatrix = 10\n",
    "\n",
    "def romberg_integration(ukuranMatrix):\n",
    "    X = matrix(RR, ukuranMatrix, ukuranMatrix, 0)\n",
    "    for i in range(ukuranMatrix):\n",
    "        X[i, 0] = multiple_trapezoidal_by_formula(a, b, 2 ** i, (b - a) / (2 ** i))\n",
    "        \n",
    "    for j in range(1, ukuranMatrix):\n",
    "        for i in range(j, ukuranMatrix):\n",
    "            X[i, j] = (4 ** j * X[i, j - 1] - X[i - 1, j - 1]) / (4 ** j - 1)\n",
    "            \n",
    "    return X[ukuranMatrix - 1, ukuranMatrix - 1]\n",
    "\n",
    "approximateIntegral = romberg_integration(ukuranMatrix)\n",
    "absoluteError = abs(approximateIntegral - realIntegral)\n",
    "\n",
    "Output(approximateIntegral, absoluteError)"
   ]
  },
  {
   "cell_type": "code",
   "execution_count": 7,
   "metadata": {},
   "outputs": [],
   "source": [
    "# gauss legendre\n",
    "degree_of_precision = 10000 # jumlah titik\n",
    "\n",
    "# Get nodes and weights using numpy\n",
    "def gauss_legendre(a, b, degree_of_precision):\n",
    "    nodes, weights = np.polynomial.legendre.leggauss(degree_of_precision)\n",
    "    x = (b + a) / 2 + (b - a) / 2 * nodes\n",
    "    sumOfPolynomial = 0\n",
    "    for i in range(degree_of_precision):\n",
    "        sumOfPolynomial += weights[i] * f(x[i])\n",
    "    return (b - a) / 2 * sumOfPolynomial\n",
    "\n",
    "approximateIntegral = gauss_legendre(a, b, degree_of_precision)\n",
    "absoluteError = abs(approximateIntegral - realIntegral)\n",
    "\n",
    "Output(approximateIntegral, absoluteError)\n",
    "\n"
   ]
  },
  {
   "cell_type": "code",
   "execution_count": 1,
   "metadata": {},
   "outputs": [
    {
     "name": "stdout",
     "output_type": "stream",
     "text": [
      "(array([-0.77459667,  0.        ,  0.77459667]), array([0.55555556, 0.88888889, 0.55555556]))\n"
     ]
    }
   ],
   "source": [
    "import numpy as np\n",
    "print(np.polynomial.legendre.leggauss(3))"
   ]
  },
  {
   "cell_type": "markdown",
   "metadata": {},
   "source": [
    "import numpy as np\n",
    "print(np.polynomial.legendre.leggauss(3))"
   ]
  }
 ],
 "metadata": {
  "kernelspec": {
   "display_name": "SageMath 10.1",
   "language": "sage",
   "name": "sagemath"
  },
  "language_info": {
   "codemirror_mode": {
    "name": "ipython",
    "version": 3
   },
   "file_extension": ".py",
   "mimetype": "text/x-python",
   "name": "python",
   "nbconvert_exporter": "python",
   "pygments_lexer": "ipython3",
   "version": "3.11.6"
  }
 },
 "nbformat": 4,
 "nbformat_minor": 2
}
